{
 "metadata": {
  "language_info": {
   "codemirror_mode": {
    "name": "ipython",
    "version": 3
   },
   "file_extension": ".py",
   "mimetype": "text/x-python",
   "name": "python",
   "nbconvert_exporter": "python",
   "pygments_lexer": "ipython3",
   "version": "2.7.18-final"
  },
  "orig_nbformat": 2,
  "kernelspec": {
   "name": "python2",
   "display_name": "Python 2",
   "language": "python"
  }
 },
 "nbformat": 4,
 "nbformat_minor": 2,
 "cells": [
  {
   "cell_type": "code",
   "execution_count": 88,
   "metadata": {},
   "outputs": [],
   "source": [
    "import pandas as pd"
   ]
  },
  {
   "cell_type": "code",
   "execution_count": 89,
   "metadata": {},
   "outputs": [
    {
     "output_type": "execute_result",
     "data": {
      "text/html": "<div>\n<style scoped>\n    .dataframe tbody tr th:only-of-type {\n        vertical-align: middle;\n    }\n\n    .dataframe tbody tr th {\n        vertical-align: top;\n    }\n\n    .dataframe thead th {\n        text-align: right;\n    }\n</style>\n<table border=\"1\" class=\"dataframe\">\n  <thead>\n    <tr style=\"text-align: right;\">\n      <th></th>\n      <th>Age</th>\n      <th>Name</th>\n      <th>Phone</th>\n    </tr>\n  </thead>\n  <tbody>\n    <tr>\n      <th>0</th>\n      <td>22</td>\n      <td>vivek</td>\n      <td>9537318019</td>\n    </tr>\n    <tr>\n      <th>1</th>\n      <td>21</td>\n      <td>darshan</td>\n      <td>9099441250</td>\n    </tr>\n    <tr>\n      <th>2</th>\n      <td>21</td>\n      <td>chirag</td>\n      <td>6352451526</td>\n    </tr>\n    <tr>\n      <th>3</th>\n      <td>21</td>\n      <td>manish</td>\n      <td>9898653526</td>\n    </tr>\n  </tbody>\n</table>\n</div>",
      "text/plain": [
       "   Age     Name       Phone\n",
       "0   22    vivek  9537318019\n",
       "1   21  darshan  9099441250\n",
       "2   21   chirag  6352451526\n",
       "3   21   manish  9898653526"
      ]
     },
     "metadata": {},
     "execution_count": 89
    }
   ],
   "source": [
    "# create Data Frame\n",
    "pd.DataFrame({\"Name\" : ['vivek', 'darshan', 'chirag', 'manish'],\n",
    "                         \"Age\" : [22, 21, 21, 21],\n",
    "                         \"Phone\":[9537318019, 9099441250, 6352451526, 9898653526]})"
   ]
  },
  {
   "cell_type": "code",
   "execution_count": 90,
   "metadata": {},
   "outputs": [
    {
     "output_type": "execute_result",
     "data": {
      "text/html": "<div>\n<style scoped>\n    .dataframe tbody tr th:only-of-type {\n        vertical-align: middle;\n    }\n\n    .dataframe tbody tr th {\n        vertical-align: top;\n    }\n\n    .dataframe thead th {\n        text-align: right;\n    }\n</style>\n<table border=\"1\" class=\"dataframe\">\n  <thead>\n    <tr style=\"text-align: right;\">\n      <th></th>\n      <th>Age</th>\n      <th>Name</th>\n      <th>Phone</th>\n    </tr>\n  </thead>\n  <tbody>\n    <tr>\n      <th>user1</th>\n      <td>22</td>\n      <td>vivek</td>\n      <td>9537318019</td>\n    </tr>\n    <tr>\n      <th>user2</th>\n      <td>21</td>\n      <td>darshan</td>\n      <td>9099441250</td>\n    </tr>\n    <tr>\n      <th>user3</th>\n      <td>21</td>\n      <td>chirag</td>\n      <td>6352451526</td>\n    </tr>\n    <tr>\n      <th>user4</th>\n      <td>21</td>\n      <td>manish</td>\n      <td>9898653526</td>\n    </tr>\n  </tbody>\n</table>\n</div>",
      "text/plain": [
       "       Age     Name       Phone\n",
       "user1   22    vivek  9537318019\n",
       "user2   21  darshan  9099441250\n",
       "user3   21   chirag  6352451526\n",
       "user4   21   manish  9898653526"
      ]
     },
     "metadata": {},
     "execution_count": 90
    }
   ],
   "source": [
    "# Data Frmae With Row Lables\n",
    "pd.DataFrame({\"Name\" : ['vivek', 'darshan', 'chirag', 'manish'],\n",
    "                         \"Age\" : [22, 21, 21, 21],\n",
    "                         \"Phone\":[9537318019, 9099441250, 6352451526, 9898653526]}, index=['user1', 'user2', 'user3', 'user4'])"
   ]
  },
  {
   "cell_type": "code",
   "execution_count": 91,
   "metadata": {},
   "outputs": [
    {
     "output_type": "execute_result",
     "data": {
      "text/plain": [
       "0    60\n",
       "1    40\n",
       "2    90\n",
       "3    20\n",
       "dtype: int64"
      ]
     },
     "metadata": {},
     "execution_count": 91
    }
   ],
   "source": [
    "# Series\n",
    "pd.Series([60, 40, 90, 20])"
   ]
  },
  {
   "cell_type": "code",
   "execution_count": 92,
   "metadata": {},
   "outputs": [
    {
     "output_type": "execute_result",
     "data": {
      "text/plain": [
       "0    50\n",
       "1    30\n",
       "2    60\n",
       "3    80\n",
       "Name: Product_sales, dtype: int64"
      ]
     },
     "metadata": {},
     "execution_count": 92
    }
   ],
   "source": [
    "# Series with Name\n",
    "pd.Series([50, 30, 60, 80], name=\"Product_sales\")"
   ]
  },
  {
   "cell_type": "code",
   "execution_count": 93,
   "metadata": {},
   "outputs": [
    {
     "output_type": "execute_result",
     "data": {
      "text/plain": [
       "apple     50\n",
       "cherry    30\n",
       "banana    50\n",
       "mengo     40\n",
       "Name: Fruite_sales_2020, dtype: int64"
      ]
     },
     "metadata": {},
     "execution_count": 93
    }
   ],
   "source": [
    "# Series with lables\n",
    "pd.Series([50, 30, 50, 40], index=['apple', 'cherry', 'banana', 'mengo'], name='Fruite_sales_2020')"
   ]
  },
  {
   "cell_type": "code",
   "execution_count": 94,
   "metadata": {},
   "outputs": [],
   "source": [
    "# Reading Files\n",
    "# create DataFrame From file\n",
    "productSalesReport = pd.read_csv('./sample_data/1000_Sales_Records.csv')"
   ]
  },
  {
   "cell_type": "code",
   "execution_count": 95,
   "metadata": {},
   "outputs": [
    {
     "output_type": "execute_result",
     "data": {
      "text/plain": [
       "(1000, 15)"
      ]
     },
     "metadata": {},
     "execution_count": 95
    }
   ],
   "source": [
    "# Get The Length of dataFrame\n",
    "productSalesReport.shape"
   ]
  },
  {
   "cell_type": "code",
   "execution_count": 96,
   "metadata": {},
   "outputs": [
    {
     "output_type": "execute_result",
     "data": {
      "text/html": "<div>\n<style scoped>\n    .dataframe tbody tr th:only-of-type {\n        vertical-align: middle;\n    }\n\n    .dataframe tbody tr th {\n        vertical-align: top;\n    }\n\n    .dataframe thead th {\n        text-align: right;\n    }\n</style>\n<table border=\"1\" class=\"dataframe\">\n  <thead>\n    <tr style=\"text-align: right;\">\n      <th></th>\n      <th>Unnamed: 0</th>\n      <th>Region</th>\n      <th>Country</th>\n      <th>Item Type</th>\n      <th>Sales Channel</th>\n      <th>Order Priority</th>\n      <th>Order Date</th>\n      <th>Order ID</th>\n      <th>Ship Date</th>\n      <th>Units Sold</th>\n      <th>Unit Price</th>\n      <th>Unit Cost</th>\n      <th>Total Revenue</th>\n      <th>Total Cost</th>\n      <th>Total Profit</th>\n    </tr>\n  </thead>\n  <tbody>\n    <tr>\n      <th>0</th>\n      <td>1</td>\n      <td>Middle East and North Africa</td>\n      <td>Libya</td>\n      <td>Cosmetics</td>\n      <td>Offline</td>\n      <td>M</td>\n      <td>10/18/2014</td>\n      <td>686800706</td>\n      <td>10/31/2014</td>\n      <td>8446</td>\n      <td>437.20</td>\n      <td>263.33</td>\n      <td>3692591.20</td>\n      <td>2224085.18</td>\n      <td>1468506.02</td>\n    </tr>\n    <tr>\n      <th>1</th>\n      <td>2</td>\n      <td>North America</td>\n      <td>Canada</td>\n      <td>Vegetables</td>\n      <td>Online</td>\n      <td>M</td>\n      <td>11/7/2011</td>\n      <td>185941302</td>\n      <td>12/8/2011</td>\n      <td>3018</td>\n      <td>154.06</td>\n      <td>90.93</td>\n      <td>464953.08</td>\n      <td>274426.74</td>\n      <td>190526.34</td>\n    </tr>\n    <tr>\n      <th>2</th>\n      <td>3</td>\n      <td>Middle East and North Africa</td>\n      <td>Libya</td>\n      <td>Baby Food</td>\n      <td>Offline</td>\n      <td>C</td>\n      <td>10/31/2016</td>\n      <td>246222341</td>\n      <td>12/9/2016</td>\n      <td>1517</td>\n      <td>255.28</td>\n      <td>159.42</td>\n      <td>387259.76</td>\n      <td>241840.14</td>\n      <td>145419.62</td>\n    </tr>\n    <tr>\n      <th>3</th>\n      <td>4</td>\n      <td>Asia</td>\n      <td>Japan</td>\n      <td>Cereal</td>\n      <td>Offline</td>\n      <td>C</td>\n      <td>4/10/2010</td>\n      <td>161442649</td>\n      <td>5/12/2010</td>\n      <td>3322</td>\n      <td>205.70</td>\n      <td>117.11</td>\n      <td>683335.40</td>\n      <td>389039.42</td>\n      <td>294295.98</td>\n    </tr>\n    <tr>\n      <th>4</th>\n      <td>5</td>\n      <td>Sub-Saharan Africa</td>\n      <td>Chad</td>\n      <td>Fruits</td>\n      <td>Offline</td>\n      <td>H</td>\n      <td>8/16/2011</td>\n      <td>645713555</td>\n      <td>8/31/2011</td>\n      <td>9845</td>\n      <td>9.33</td>\n      <td>6.92</td>\n      <td>91853.85</td>\n      <td>68127.40</td>\n      <td>23726.45</td>\n    </tr>\n  </tbody>\n</table>\n</div>",
      "text/plain": [
       "   Unnamed: 0                        Region Country   Item Type Sales Channel  \\\n",
       "0           1  Middle East and North Africa   Libya   Cosmetics       Offline   \n",
       "1           2                 North America  Canada  Vegetables        Online   \n",
       "2           3  Middle East and North Africa   Libya   Baby Food       Offline   \n",
       "3           4                          Asia   Japan      Cereal       Offline   \n",
       "4           5            Sub-Saharan Africa    Chad      Fruits       Offline   \n",
       "\n",
       "  Order Priority  Order Date   Order ID   Ship Date  Units Sold  Unit Price  \\\n",
       "0              M  10/18/2014  686800706  10/31/2014        8446      437.20   \n",
       "1              M   11/7/2011  185941302   12/8/2011        3018      154.06   \n",
       "2              C  10/31/2016  246222341   12/9/2016        1517      255.28   \n",
       "3              C   4/10/2010  161442649   5/12/2010        3322      205.70   \n",
       "4              H   8/16/2011  645713555   8/31/2011        9845        9.33   \n",
       "\n",
       "   Unit Cost  Total Revenue  Total Cost  Total Profit  \n",
       "0     263.33     3692591.20  2224085.18    1468506.02  \n",
       "1      90.93      464953.08   274426.74     190526.34  \n",
       "2     159.42      387259.76   241840.14     145419.62  \n",
       "3     117.11      683335.40   389039.42     294295.98  \n",
       "4       6.92       91853.85    68127.40      23726.45  "
      ]
     },
     "metadata": {},
     "execution_count": 96
    }
   ],
   "source": [
    "# df.head() display first five row of dataframe\n",
    "productSalesReport.head()"
   ]
  },
  {
   "cell_type": "code",
   "execution_count": 97,
   "metadata": {},
   "outputs": [
    {
     "output_type": "execute_result",
     "data": {
      "text/html": "<div>\n<style scoped>\n    .dataframe tbody tr th:only-of-type {\n        vertical-align: middle;\n    }\n\n    .dataframe tbody tr th {\n        vertical-align: top;\n    }\n\n    .dataframe thead th {\n        text-align: right;\n    }\n</style>\n<table border=\"1\" class=\"dataframe\">\n  <thead>\n    <tr style=\"text-align: right;\">\n      <th></th>\n      <th>Region</th>\n      <th>Country</th>\n      <th>Item Type</th>\n      <th>Sales Channel</th>\n      <th>Order Priority</th>\n      <th>Order Date</th>\n      <th>Order ID</th>\n      <th>Ship Date</th>\n      <th>Units Sold</th>\n      <th>Unit Price</th>\n      <th>Unit Cost</th>\n      <th>Total Revenue</th>\n      <th>Total Cost</th>\n      <th>Total Profit</th>\n    </tr>\n  </thead>\n  <tbody>\n    <tr>\n      <th>1</th>\n      <td>Middle East and North Africa</td>\n      <td>Libya</td>\n      <td>Cosmetics</td>\n      <td>Offline</td>\n      <td>M</td>\n      <td>10/18/2014</td>\n      <td>686800706</td>\n      <td>10/31/2014</td>\n      <td>8446</td>\n      <td>437.20</td>\n      <td>263.33</td>\n      <td>3692591.20</td>\n      <td>2224085.18</td>\n      <td>1468506.02</td>\n    </tr>\n    <tr>\n      <th>2</th>\n      <td>North America</td>\n      <td>Canada</td>\n      <td>Vegetables</td>\n      <td>Online</td>\n      <td>M</td>\n      <td>11/7/2011</td>\n      <td>185941302</td>\n      <td>12/8/2011</td>\n      <td>3018</td>\n      <td>154.06</td>\n      <td>90.93</td>\n      <td>464953.08</td>\n      <td>274426.74</td>\n      <td>190526.34</td>\n    </tr>\n    <tr>\n      <th>3</th>\n      <td>Middle East and North Africa</td>\n      <td>Libya</td>\n      <td>Baby Food</td>\n      <td>Offline</td>\n      <td>C</td>\n      <td>10/31/2016</td>\n      <td>246222341</td>\n      <td>12/9/2016</td>\n      <td>1517</td>\n      <td>255.28</td>\n      <td>159.42</td>\n      <td>387259.76</td>\n      <td>241840.14</td>\n      <td>145419.62</td>\n    </tr>\n    <tr>\n      <th>4</th>\n      <td>Asia</td>\n      <td>Japan</td>\n      <td>Cereal</td>\n      <td>Offline</td>\n      <td>C</td>\n      <td>4/10/2010</td>\n      <td>161442649</td>\n      <td>5/12/2010</td>\n      <td>3322</td>\n      <td>205.70</td>\n      <td>117.11</td>\n      <td>683335.40</td>\n      <td>389039.42</td>\n      <td>294295.98</td>\n    </tr>\n    <tr>\n      <th>5</th>\n      <td>Sub-Saharan Africa</td>\n      <td>Chad</td>\n      <td>Fruits</td>\n      <td>Offline</td>\n      <td>H</td>\n      <td>8/16/2011</td>\n      <td>645713555</td>\n      <td>8/31/2011</td>\n      <td>9845</td>\n      <td>9.33</td>\n      <td>6.92</td>\n      <td>91853.85</td>\n      <td>68127.40</td>\n      <td>23726.45</td>\n    </tr>\n  </tbody>\n</table>\n</div>",
      "text/plain": [
       "                         Region Country   Item Type Sales Channel  \\\n",
       "1  Middle East and North Africa   Libya   Cosmetics       Offline   \n",
       "2                 North America  Canada  Vegetables        Online   \n",
       "3  Middle East and North Africa   Libya   Baby Food       Offline   \n",
       "4                          Asia   Japan      Cereal       Offline   \n",
       "5            Sub-Saharan Africa    Chad      Fruits       Offline   \n",
       "\n",
       "  Order Priority  Order Date   Order ID   Ship Date  Units Sold  Unit Price  \\\n",
       "1              M  10/18/2014  686800706  10/31/2014        8446      437.20   \n",
       "2              M   11/7/2011  185941302   12/8/2011        3018      154.06   \n",
       "3              C  10/31/2016  246222341   12/9/2016        1517      255.28   \n",
       "4              C   4/10/2010  161442649   5/12/2010        3322      205.70   \n",
       "5              H   8/16/2011  645713555   8/31/2011        9845        9.33   \n",
       "\n",
       "   Unit Cost  Total Revenue  Total Cost  Total Profit  \n",
       "1     263.33     3692591.20  2224085.18    1468506.02  \n",
       "2      90.93      464953.08   274426.74     190526.34  \n",
       "3     159.42      387259.76   241840.14     145419.62  \n",
       "4     117.11      683335.40   389039.42     294295.98  \n",
       "5       6.92       91853.85    68127.40      23726.45  "
      ]
     },
     "metadata": {},
     "execution_count": 97
    }
   ],
   "source": [
    "# we can use the csv index as our df index as well\n",
    "\n",
    "productSalesReport = pd.read_csv('sample_data/1000_Sales_Records.csv', index_col=0)\n",
    "productSalesReport.head()"
   ]
  },
  {
   "cell_type": "code",
   "execution_count": 98,
   "metadata": {},
   "outputs": [],
   "source": [
    "# store data frame to csv\n",
    "productSalesReport.to_csv('test.csv')"
   ]
  },
  {
   "cell_type": "code",
   "execution_count": 99,
   "metadata": {},
   "outputs": [
    {
     "output_type": "execute_result",
     "data": {
      "text/plain": [
       "1             Cosmetics\n",
       "2            Vegetables\n",
       "3             Baby Food\n",
       "4                Cereal\n",
       "5                Fruits\n",
       "6                Cereal\n",
       "7                Cereal\n",
       "8               Clothes\n",
       "9            Vegetables\n",
       "10           Vegetables\n",
       "11              Clothes\n",
       "12               Snacks\n",
       "13            Household\n",
       "14            Cosmetics\n",
       "15               Fruits\n",
       "16              Clothes\n",
       "17      Office Supplies\n",
       "18            Beverages\n",
       "19              Clothes\n",
       "20            Household\n",
       "21               Snacks\n",
       "22              Clothes\n",
       "23        Personal Care\n",
       "24              Clothes\n",
       "25               Cereal\n",
       "26            Beverages\n",
       "27            Beverages\n",
       "28               Fruits\n",
       "29                 Meat\n",
       "30        Personal Care\n",
       "             ...       \n",
       "971              Cereal\n",
       "972          Vegetables\n",
       "973                Meat\n",
       "974             Clothes\n",
       "975             Clothes\n",
       "976                Meat\n",
       "977           Household\n",
       "978           Beverages\n",
       "979           Beverages\n",
       "980              Cereal\n",
       "981           Beverages\n",
       "982             Clothes\n",
       "983              Snacks\n",
       "984     Office Supplies\n",
       "985       Personal Care\n",
       "986     Office Supplies\n",
       "987             Clothes\n",
       "988           Household\n",
       "989              Snacks\n",
       "990              Cereal\n",
       "991           Beverages\n",
       "992              Cereal\n",
       "993           Beverages\n",
       "994           Baby Food\n",
       "995                Meat\n",
       "996              Snacks\n",
       "997           Baby Food\n",
       "998          Vegetables\n",
       "999           Household\n",
       "1000             Cereal\n",
       "Name: Item Type, Length: 1000, dtype: object"
      ]
     },
     "metadata": {},
     "execution_count": 99
    }
   ],
   "source": [
    "# accessing column from data frame\n",
    "\n",
    "productSalesReport['Item Type']"
   ]
  },
  {
   "cell_type": "code",
   "execution_count": 100,
   "metadata": {},
   "outputs": [
    {
     "output_type": "execute_result",
     "data": {
      "text/plain": [
       "'Cosmetics'"
      ]
     },
     "metadata": {},
     "execution_count": 100
    }
   ],
   "source": [
    "# access specific cell of csv using dataframe index\n",
    "productSalesReport['Item Type'][1]"
   ]
  },
  {
   "cell_type": "code",
   "execution_count": 101,
   "metadata": {},
   "outputs": [],
   "source": [
    "# Index based selection\n"
   ]
  },
  {
   "cell_type": "code",
   "execution_count": 102,
   "metadata": {},
   "outputs": [
    {
     "output_type": "execute_result",
     "data": {
      "text/plain": [
       "Region            Middle East and North Africa\n",
       "Country                                  Libya\n",
       "Item Type                            Cosmetics\n",
       "Sales Channel                          Offline\n",
       "Order Priority                               M\n",
       "Order Date                          10/18/2014\n",
       "Order ID                             686800706\n",
       "Ship Date                           10/31/2014\n",
       "Units Sold                                8446\n",
       "Unit Price                               437.2\n",
       "Unit Cost                               263.33\n",
       "Total Revenue                      3.69259e+06\n",
       "Total Cost                         2.22409e+06\n",
       "Total Profit                       1.46851e+06\n",
       "Name: 1, dtype: object"
      ]
     },
     "metadata": {},
     "execution_count": 102
    }
   ],
   "source": [
    "productSalesReport.iloc[0] "
   ]
  },
  {
   "cell_type": "code",
   "execution_count": 103,
   "metadata": {},
   "outputs": [
    {
     "output_type": "execute_result",
     "data": {
      "text/plain": [
       "Region            Sub-Saharan Africa\n",
       "Country                         Chad\n",
       "Item Type                     Fruits\n",
       "Sales Channel                Offline\n",
       "Order Priority                     H\n",
       "Order Date                 8/16/2011\n",
       "Order ID                   645713555\n",
       "Ship Date                  8/31/2011\n",
       "Units Sold                      9845\n",
       "Unit Price                      9.33\n",
       "Unit Cost                       6.92\n",
       "Total Revenue                91853.9\n",
       "Total Cost                   68127.4\n",
       "Total Profit                 23726.5\n",
       "Name: 5, dtype: object"
      ]
     },
     "metadata": {},
     "execution_count": 103
    }
   ],
   "source": [
    "# all columan, 5th row selection\n",
    "productSalesReport.iloc[4,:]"
   ]
  },
  {
   "cell_type": "code",
   "execution_count": 104,
   "metadata": {},
   "outputs": [
    {
     "output_type": "execute_result",
     "data": {
      "text/plain": [
       "1            Middle East and North Africa\n",
       "2                           North America\n",
       "3            Middle East and North Africa\n",
       "4                                    Asia\n",
       "5                      Sub-Saharan Africa\n",
       "6                                  Europe\n",
       "7                      Sub-Saharan Africa\n",
       "8                                  Europe\n",
       "9       Central America and the Caribbean\n",
       "10                  Australia and Oceania\n",
       "11                     Sub-Saharan Africa\n",
       "12                                 Europe\n",
       "13                                 Europe\n",
       "14                     Sub-Saharan Africa\n",
       "15                                   Asia\n",
       "16                                 Europe\n",
       "17                                 Europe\n",
       "18                          North America\n",
       "19                     Sub-Saharan Africa\n",
       "20                     Sub-Saharan Africa\n",
       "21                  Australia and Oceania\n",
       "22                                 Europe\n",
       "23           Middle East and North Africa\n",
       "24                                   Asia\n",
       "25      Central America and the Caribbean\n",
       "26      Central America and the Caribbean\n",
       "27                     Sub-Saharan Africa\n",
       "28                          North America\n",
       "29                     Sub-Saharan Africa\n",
       "30                     Sub-Saharan Africa\n",
       "                      ...                \n",
       "971     Central America and the Caribbean\n",
       "972                    Sub-Saharan Africa\n",
       "973     Central America and the Caribbean\n",
       "974                                  Asia\n",
       "975          Middle East and North Africa\n",
       "976     Central America and the Caribbean\n",
       "977                    Sub-Saharan Africa\n",
       "978          Middle East and North Africa\n",
       "979                    Sub-Saharan Africa\n",
       "980                                Europe\n",
       "981                 Australia and Oceania\n",
       "982                 Australia and Oceania\n",
       "983                                Europe\n",
       "984          Middle East and North Africa\n",
       "985                    Sub-Saharan Africa\n",
       "986                    Sub-Saharan Africa\n",
       "987                                  Asia\n",
       "988                 Australia and Oceania\n",
       "989                                Europe\n",
       "990                 Australia and Oceania\n",
       "991                    Sub-Saharan Africa\n",
       "992                    Sub-Saharan Africa\n",
       "993                                Europe\n",
       "994                 Australia and Oceania\n",
       "995                                  Asia\n",
       "996          Middle East and North Africa\n",
       "997                                Europe\n",
       "998          Middle East and North Africa\n",
       "999                                Europe\n",
       "1000                               Europe\n",
       "Name: Region, Length: 1000, dtype: object"
      ]
     },
     "metadata": {},
     "execution_count": 104
    }
   ],
   "source": [
    "# all rows, oth column\n",
    "productSalesReport.iloc[:, 0]"
   ]
  },
  {
   "cell_type": "code",
   "execution_count": 105,
   "metadata": {},
   "outputs": [
    {
     "output_type": "execute_result",
     "data": {
      "text/html": "<div>\n<style scoped>\n    .dataframe tbody tr th:only-of-type {\n        vertical-align: middle;\n    }\n\n    .dataframe tbody tr th {\n        vertical-align: top;\n    }\n\n    .dataframe thead th {\n        text-align: right;\n    }\n</style>\n<table border=\"1\" class=\"dataframe\">\n  <thead>\n    <tr style=\"text-align: right;\">\n      <th></th>\n      <th>Region</th>\n      <th>Country</th>\n      <th>Item Type</th>\n      <th>Sales Channel</th>\n      <th>Order Priority</th>\n      <th>Order Date</th>\n      <th>Order ID</th>\n      <th>Ship Date</th>\n      <th>Units Sold</th>\n      <th>Unit Price</th>\n      <th>Unit Cost</th>\n      <th>Total Revenue</th>\n      <th>Total Cost</th>\n      <th>Total Profit</th>\n    </tr>\n  </thead>\n  <tbody>\n    <tr>\n      <th>1</th>\n      <td>Middle East and North Africa</td>\n      <td>Libya</td>\n      <td>Cosmetics</td>\n      <td>Offline</td>\n      <td>M</td>\n      <td>10/18/2014</td>\n      <td>686800706</td>\n      <td>10/31/2014</td>\n      <td>8446</td>\n      <td>437.20</td>\n      <td>263.33</td>\n      <td>3692591.20</td>\n      <td>2224085.18</td>\n      <td>1468506.02</td>\n    </tr>\n    <tr>\n      <th>2</th>\n      <td>North America</td>\n      <td>Canada</td>\n      <td>Vegetables</td>\n      <td>Online</td>\n      <td>M</td>\n      <td>11/7/2011</td>\n      <td>185941302</td>\n      <td>12/8/2011</td>\n      <td>3018</td>\n      <td>154.06</td>\n      <td>90.93</td>\n      <td>464953.08</td>\n      <td>274426.74</td>\n      <td>190526.34</td>\n    </tr>\n    <tr>\n      <th>3</th>\n      <td>Middle East and North Africa</td>\n      <td>Libya</td>\n      <td>Baby Food</td>\n      <td>Offline</td>\n      <td>C</td>\n      <td>10/31/2016</td>\n      <td>246222341</td>\n      <td>12/9/2016</td>\n      <td>1517</td>\n      <td>255.28</td>\n      <td>159.42</td>\n      <td>387259.76</td>\n      <td>241840.14</td>\n      <td>145419.62</td>\n    </tr>\n  </tbody>\n</table>\n</div>",
      "text/plain": [
       "                         Region Country   Item Type Sales Channel  \\\n",
       "1  Middle East and North Africa   Libya   Cosmetics       Offline   \n",
       "2                 North America  Canada  Vegetables        Online   \n",
       "3  Middle East and North Africa   Libya   Baby Food       Offline   \n",
       "\n",
       "  Order Priority  Order Date   Order ID   Ship Date  Units Sold  Unit Price  \\\n",
       "1              M  10/18/2014  686800706  10/31/2014        8446      437.20   \n",
       "2              M   11/7/2011  185941302   12/8/2011        3018      154.06   \n",
       "3              C  10/31/2016  246222341   12/9/2016        1517      255.28   \n",
       "\n",
       "   Unit Cost  Total Revenue  Total Cost  Total Profit  \n",
       "1     263.33     3692591.20  2224085.18    1468506.02  \n",
       "2      90.93      464953.08   274426.74     190526.34  \n",
       "3     159.42      387259.76   241840.14     145419.62  "
      ]
     },
     "metadata": {},
     "execution_count": 105
    }
   ],
   "source": [
    "# select first 3 rows with all column\n",
    "productSalesReport.iloc[:3, :]"
   ]
  },
  {
   "cell_type": "code",
   "execution_count": 106,
   "metadata": {},
   "outputs": [
    {
     "output_type": "execute_result",
     "data": {
      "text/html": "<div>\n<style scoped>\n    .dataframe tbody tr th:only-of-type {\n        vertical-align: middle;\n    }\n\n    .dataframe tbody tr th {\n        vertical-align: top;\n    }\n\n    .dataframe thead th {\n        text-align: right;\n    }\n</style>\n<table border=\"1\" class=\"dataframe\">\n  <thead>\n    <tr style=\"text-align: right;\">\n      <th></th>\n      <th>Total Revenue</th>\n      <th>Total Cost</th>\n      <th>Total Profit</th>\n    </tr>\n  </thead>\n  <tbody>\n    <tr>\n      <th>1</th>\n      <td>3692591.20</td>\n      <td>2224085.18</td>\n      <td>1468506.02</td>\n    </tr>\n    <tr>\n      <th>2</th>\n      <td>464953.08</td>\n      <td>274426.74</td>\n      <td>190526.34</td>\n    </tr>\n    <tr>\n      <th>3</th>\n      <td>387259.76</td>\n      <td>241840.14</td>\n      <td>145419.62</td>\n    </tr>\n  </tbody>\n</table>\n</div>",
      "text/plain": [
       "   Total Revenue  Total Cost  Total Profit\n",
       "1     3692591.20  2224085.18    1468506.02\n",
       "2      464953.08   274426.74     190526.34\n",
       "3      387259.76   241840.14     145419.62"
      ]
     },
     "metadata": {},
     "execution_count": 106
    }
   ],
   "source": [
    "# select first 3 rows with last 3 columns\n",
    "productSalesReport.iloc[:3, -3:]"
   ]
  },
  {
   "cell_type": "code",
   "execution_count": 107,
   "metadata": {},
   "outputs": [
    {
     "output_type": "execute_result",
     "data": {
      "text/plain": [
       "Region            Europe\n",
       "Order Date    11/24/2014\n",
       "Name: 6, dtype: object"
      ]
     },
     "metadata": {},
     "execution_count": 107
    }
   ],
   "source": [
    "# we can pass list as well\n",
    "# select only 0th and 5th columns only with firdt 50 rows\n",
    "productSalesReport.iloc[5, [0, 5]]"
   ]
  },
  {
   "cell_type": "code",
   "execution_count": 108,
   "metadata": {},
   "outputs": [
    {
     "output_type": "execute_result",
     "data": {
      "text/html": "<div>\n<style scoped>\n    .dataframe tbody tr th:only-of-type {\n        vertical-align: middle;\n    }\n\n    .dataframe tbody tr th {\n        vertical-align: top;\n    }\n\n    .dataframe thead th {\n        text-align: right;\n    }\n</style>\n<table border=\"1\" class=\"dataframe\">\n  <thead>\n    <tr style=\"text-align: right;\">\n      <th></th>\n      <th>Region</th>\n      <th>Country</th>\n      <th>Item Type</th>\n      <th>Sales Channel</th>\n      <th>Order Priority</th>\n      <th>Order Date</th>\n      <th>Order ID</th>\n      <th>Ship Date</th>\n      <th>Units Sold</th>\n      <th>Unit Price</th>\n      <th>Unit Cost</th>\n      <th>Total Revenue</th>\n      <th>Total Cost</th>\n      <th>Total Profit</th>\n    </tr>\n  </thead>\n  <tbody>\n    <tr>\n      <th>11</th>\n      <td>Sub-Saharan Africa</td>\n      <td>Togo</td>\n      <td>Clothes</td>\n      <td>Online</td>\n      <td>M</td>\n      <td>12/29/2015</td>\n      <td>451010930</td>\n      <td>1/19/2016</td>\n      <td>3012</td>\n      <td>109.28</td>\n      <td>35.84</td>\n      <td>329151.36</td>\n      <td>107950.08</td>\n      <td>221201.28</td>\n    </tr>\n    <tr>\n      <th>101</th>\n      <td>North America</td>\n      <td>United States of America</td>\n      <td>Clothes</td>\n      <td>Offline</td>\n      <td>C</td>\n      <td>10/21/2010</td>\n      <td>699368035</td>\n      <td>12/7/2010</td>\n      <td>7398</td>\n      <td>109.28</td>\n      <td>35.84</td>\n      <td>808453.44</td>\n      <td>265144.32</td>\n      <td>543309.12</td>\n    </tr>\n  </tbody>\n</table>\n</div>",
      "text/plain": [
       "                 Region                   Country Item Type Sales Channel  \\\n",
       "11   Sub-Saharan Africa                      Togo   Clothes        Online   \n",
       "101       North America  United States of America   Clothes       Offline   \n",
       "\n",
       "    Order Priority  Order Date   Order ID  Ship Date  Units Sold  Unit Price  \\\n",
       "11               M  12/29/2015  451010930  1/19/2016        3012      109.28   \n",
       "101              C  10/21/2010  699368035  12/7/2010        7398      109.28   \n",
       "\n",
       "     Unit Cost  Total Revenue  Total Cost  Total Profit  \n",
       "11       35.84      329151.36   107950.08     221201.28  \n",
       "101      35.84      808453.44   265144.32     543309.12  "
      ]
     },
     "metadata": {},
     "execution_count": 108
    }
   ],
   "source": [
    "# select only 10th and 100th row with all column\n",
    "productSalesReport.iloc[[10, 100], :]"
   ]
  },
  {
   "cell_type": "code",
   "execution_count": 109,
   "metadata": {},
   "outputs": [],
   "source": [
    "# Lable based selection"
   ]
  },
  {
   "cell_type": "code",
   "execution_count": 110,
   "metadata": {},
   "outputs": [
    {
     "output_type": "execute_result",
     "data": {
      "text/plain": [
       "Region            Middle East and North Africa\n",
       "Country                                  Libya\n",
       "Item Type                            Cosmetics\n",
       "Sales Channel                          Offline\n",
       "Order Priority                               M\n",
       "Order Date                          10/18/2014\n",
       "Order ID                             686800706\n",
       "Ship Date                           10/31/2014\n",
       "Units Sold                                8446\n",
       "Unit Price                               437.2\n",
       "Unit Cost                               263.33\n",
       "Total Revenue                      3.69259e+06\n",
       "Total Cost                         2.22409e+06\n",
       "Total Profit                       1.46851e+06\n",
       "Name: 1, dtype: object"
      ]
     },
     "metadata": {},
     "execution_count": 110
    }
   ],
   "source": [
    "# row index matters here, not actula position of data\n",
    "# get the row which has index 1\n",
    "productSalesReport.loc[1]"
   ]
  },
  {
   "cell_type": "code",
   "execution_count": 111,
   "metadata": {},
   "outputs": [
    {
     "output_type": "execute_result",
     "data": {
      "text/html": "<div>\n<style scoped>\n    .dataframe tbody tr th:only-of-type {\n        vertical-align: middle;\n    }\n\n    .dataframe tbody tr th {\n        vertical-align: top;\n    }\n\n    .dataframe thead th {\n        text-align: right;\n    }\n</style>\n<table border=\"1\" class=\"dataframe\">\n  <thead>\n    <tr style=\"text-align: right;\">\n      <th></th>\n      <th>Unit Price</th>\n      <th>Item Type</th>\n      <th>Region</th>\n    </tr>\n  </thead>\n  <tbody>\n    <tr>\n      <th>1</th>\n      <td>437.20</td>\n      <td>Cosmetics</td>\n      <td>Middle East and North Africa</td>\n    </tr>\n    <tr>\n      <th>2</th>\n      <td>154.06</td>\n      <td>Vegetables</td>\n      <td>North America</td>\n    </tr>\n    <tr>\n      <th>3</th>\n      <td>255.28</td>\n      <td>Baby Food</td>\n      <td>Middle East and North Africa</td>\n    </tr>\n    <tr>\n      <th>4</th>\n      <td>205.70</td>\n      <td>Cereal</td>\n      <td>Asia</td>\n    </tr>\n    <tr>\n      <th>5</th>\n      <td>9.33</td>\n      <td>Fruits</td>\n      <td>Sub-Saharan Africa</td>\n    </tr>\n  </tbody>\n</table>\n</div>",
      "text/plain": [
       "   Unit Price   Item Type                        Region\n",
       "1      437.20   Cosmetics  Middle East and North Africa\n",
       "2      154.06  Vegetables                 North America\n",
       "3      255.28   Baby Food  Middle East and North Africa\n",
       "4      205.70      Cereal                          Asia\n",
       "5        9.33      Fruits            Sub-Saharan Africa"
      ]
     },
     "metadata": {},
     "execution_count": 111
    }
   ],
   "source": [
    "# select first five row and only include [Unit Price, Item Type, Region] columns\n",
    "productSalesReport.loc[:5, ['Unit Price', 'Item Type','Region']]"
   ]
  },
  {
   "cell_type": "code",
   "execution_count": 112,
   "metadata": {},
   "outputs": [],
   "source": [
    "# Conditional selection\n",
    "# it is like asking quetions and getting result from static data"
   ]
  },
  {
   "cell_type": "code",
   "execution_count": 113,
   "metadata": {},
   "outputs": [
    {
     "output_type": "execute_result",
     "data": {
      "text/html": "<div>\n<style scoped>\n    .dataframe tbody tr th:only-of-type {\n        vertical-align: middle;\n    }\n\n    .dataframe tbody tr th {\n        vertical-align: top;\n    }\n\n    .dataframe thead th {\n        text-align: right;\n    }\n</style>\n<table border=\"1\" class=\"dataframe\">\n  <thead>\n    <tr style=\"text-align: right;\">\n      <th></th>\n      <th>Region</th>\n      <th>Country</th>\n      <th>Item Type</th>\n      <th>Sales Channel</th>\n      <th>Order Priority</th>\n      <th>Order Date</th>\n      <th>Order ID</th>\n      <th>Ship Date</th>\n      <th>Units Sold</th>\n      <th>Unit Price</th>\n      <th>Unit Cost</th>\n      <th>Total Revenue</th>\n      <th>Total Cost</th>\n      <th>Total Profit</th>\n    </tr>\n  </thead>\n  <tbody>\n    <tr>\n      <th>4</th>\n      <td>Asia</td>\n      <td>Japan</td>\n      <td>Cereal</td>\n      <td>Offline</td>\n      <td>C</td>\n      <td>4/10/2010</td>\n      <td>161442649</td>\n      <td>5/12/2010</td>\n      <td>3322</td>\n      <td>205.70</td>\n      <td>117.11</td>\n      <td>683335.40</td>\n      <td>389039.42</td>\n      <td>294295.98</td>\n    </tr>\n    <tr>\n      <th>15</th>\n      <td>Asia</td>\n      <td>Maldives</td>\n      <td>Fruits</td>\n      <td>Offline</td>\n      <td>L</td>\n      <td>1/8/2011</td>\n      <td>714135205</td>\n      <td>2/6/2011</td>\n      <td>7332</td>\n      <td>9.33</td>\n      <td>6.92</td>\n      <td>68407.56</td>\n      <td>50737.44</td>\n      <td>17670.12</td>\n    </tr>\n    <tr>\n      <th>24</th>\n      <td>Asia</td>\n      <td>Mongolia</td>\n      <td>Clothes</td>\n      <td>Online</td>\n      <td>L</td>\n      <td>12/12/2015</td>\n      <td>770478332</td>\n      <td>1/24/2016</td>\n      <td>515</td>\n      <td>109.28</td>\n      <td>35.84</td>\n      <td>56279.20</td>\n      <td>18457.60</td>\n      <td>37821.60</td>\n    </tr>\n    <tr>\n      <th>42</th>\n      <td>Asia</td>\n      <td>Mongolia</td>\n      <td>Beverages</td>\n      <td>Online</td>\n      <td>M</td>\n      <td>8/3/2013</td>\n      <td>329110324</td>\n      <td>9/2/2013</td>\n      <td>9913</td>\n      <td>47.45</td>\n      <td>31.79</td>\n      <td>470371.85</td>\n      <td>315134.27</td>\n      <td>155237.58</td>\n    </tr>\n    <tr>\n      <th>46</th>\n      <td>Asia</td>\n      <td>Laos</td>\n      <td>Beverages</td>\n      <td>Online</td>\n      <td>M</td>\n      <td>3/22/2013</td>\n      <td>693473613</td>\n      <td>4/21/2013</td>\n      <td>3107</td>\n      <td>47.45</td>\n      <td>31.79</td>\n      <td>147427.15</td>\n      <td>98771.53</td>\n      <td>48655.62</td>\n    </tr>\n    <tr>\n      <th>50</th>\n      <td>Asia</td>\n      <td>Bhutan</td>\n      <td>Meat</td>\n      <td>Online</td>\n      <td>H</td>\n      <td>12/9/2016</td>\n      <td>726708972</td>\n      <td>1/26/2017</td>\n      <td>8189</td>\n      <td>421.89</td>\n      <td>364.69</td>\n      <td>3454857.21</td>\n      <td>2986446.41</td>\n      <td>468410.80</td>\n    </tr>\n    <tr>\n      <th>56</th>\n      <td>Asia</td>\n      <td>Malaysia</td>\n      <td>Snacks</td>\n      <td>Offline</td>\n      <td>M</td>\n      <td>10/6/2012</td>\n      <td>175033080</td>\n      <td>11/5/2012</td>\n      <td>5033</td>\n      <td>152.58</td>\n      <td>97.44</td>\n      <td>767935.14</td>\n      <td>490415.52</td>\n      <td>277519.62</td>\n    </tr>\n    <tr>\n      <th>57</th>\n      <td>Asia</td>\n      <td>Uzbekistan</td>\n      <td>Office Supplies</td>\n      <td>Offline</td>\n      <td>L</td>\n      <td>3/10/2012</td>\n      <td>276595246</td>\n      <td>3/15/2012</td>\n      <td>9535</td>\n      <td>651.21</td>\n      <td>524.96</td>\n      <td>6209287.35</td>\n      <td>5005493.60</td>\n      <td>1203793.75</td>\n    </tr>\n    <tr>\n      <th>59</th>\n      <td>Asia</td>\n      <td>Nepal</td>\n      <td>Vegetables</td>\n      <td>Offline</td>\n      <td>C</td>\n      <td>6/2/2014</td>\n      <td>443121373</td>\n      <td>6/19/2014</td>\n      <td>8316</td>\n      <td>154.06</td>\n      <td>90.93</td>\n      <td>1281162.96</td>\n      <td>756173.88</td>\n      <td>524989.08</td>\n    </tr>\n    <tr>\n      <th>71</th>\n      <td>Asia</td>\n      <td>India</td>\n      <td>Fruits</td>\n      <td>Online</td>\n      <td>H</td>\n      <td>7/29/2010</td>\n      <td>658348691</td>\n      <td>8/22/2010</td>\n      <td>8862</td>\n      <td>9.33</td>\n      <td>6.92</td>\n      <td>82682.46</td>\n      <td>61325.04</td>\n      <td>21357.42</td>\n    </tr>\n    <tr>\n      <th>83</th>\n      <td>Asia</td>\n      <td>South Korea</td>\n      <td>Fruits</td>\n      <td>Offline</td>\n      <td>L</td>\n      <td>3/7/2010</td>\n      <td>769205892</td>\n      <td>3/17/2010</td>\n      <td>3972</td>\n      <td>9.33</td>\n      <td>6.92</td>\n      <td>37058.76</td>\n      <td>27486.24</td>\n      <td>9572.52</td>\n    </tr>\n    <tr>\n      <th>91</th>\n      <td>Asia</td>\n      <td>Philippines</td>\n      <td>Baby Food</td>\n      <td>Online</td>\n      <td>L</td>\n      <td>2/23/2014</td>\n      <td>160127294</td>\n      <td>3/23/2014</td>\n      <td>4079</td>\n      <td>255.28</td>\n      <td>159.42</td>\n      <td>1041287.12</td>\n      <td>650274.18</td>\n      <td>391012.94</td>\n    </tr>\n    <tr>\n      <th>108</th>\n      <td>Asia</td>\n      <td>China</td>\n      <td>Cosmetics</td>\n      <td>Offline</td>\n      <td>L</td>\n      <td>9/22/2011</td>\n      <td>773315894</td>\n      <td>11/4/2011</td>\n      <td>213</td>\n      <td>437.20</td>\n      <td>263.33</td>\n      <td>93123.60</td>\n      <td>56089.29</td>\n      <td>37034.31</td>\n    </tr>\n    <tr>\n      <th>112</th>\n      <td>Asia</td>\n      <td>Bangladesh</td>\n      <td>Baby Food</td>\n      <td>Online</td>\n      <td>H</td>\n      <td>8/17/2011</td>\n      <td>254927718</td>\n      <td>9/7/2011</td>\n      <td>7632</td>\n      <td>255.28</td>\n      <td>159.42</td>\n      <td>1948296.96</td>\n      <td>1216693.44</td>\n      <td>731603.52</td>\n    </tr>\n    <tr>\n      <th>116</th>\n      <td>Asia</td>\n      <td>Vietnam</td>\n      <td>Baby Food</td>\n      <td>Online</td>\n      <td>C</td>\n      <td>6/20/2011</td>\n      <td>881974112</td>\n      <td>7/11/2011</td>\n      <td>4594</td>\n      <td>255.28</td>\n      <td>159.42</td>\n      <td>1172756.32</td>\n      <td>732375.48</td>\n      <td>440380.84</td>\n    </tr>\n    <tr>\n      <th>118</th>\n      <td>Asia</td>\n      <td>Taiwan</td>\n      <td>Household</td>\n      <td>Online</td>\n      <td>C</td>\n      <td>1/23/2017</td>\n      <td>607261836</td>\n      <td>2/22/2017</td>\n      <td>1127</td>\n      <td>668.27</td>\n      <td>502.54</td>\n      <td>753140.29</td>\n      <td>566362.58</td>\n      <td>186777.71</td>\n    </tr>\n    <tr>\n      <th>126</th>\n      <td>Asia</td>\n      <td>Malaysia</td>\n      <td>Snacks</td>\n      <td>Offline</td>\n      <td>H</td>\n      <td>3/11/2010</td>\n      <td>600124156</td>\n      <td>4/21/2010</td>\n      <td>8929</td>\n      <td>152.58</td>\n      <td>97.44</td>\n      <td>1362386.82</td>\n      <td>870041.76</td>\n      <td>492345.06</td>\n    </tr>\n    <tr>\n      <th>133</th>\n      <td>Asia</td>\n      <td>China</td>\n      <td>Beverages</td>\n      <td>Offline</td>\n      <td>C</td>\n      <td>4/16/2013</td>\n      <td>332877862</td>\n      <td>5/7/2013</td>\n      <td>4811</td>\n      <td>47.45</td>\n      <td>31.79</td>\n      <td>228281.95</td>\n      <td>152941.69</td>\n      <td>75340.26</td>\n    </tr>\n    <tr>\n      <th>138</th>\n      <td>Asia</td>\n      <td>Uzbekistan</td>\n      <td>Personal Care</td>\n      <td>Offline</td>\n      <td>H</td>\n      <td>2/12/2013</td>\n      <td>707520663</td>\n      <td>3/15/2013</td>\n      <td>9942</td>\n      <td>81.73</td>\n      <td>56.67</td>\n      <td>812559.66</td>\n      <td>563413.14</td>\n      <td>249146.52</td>\n    </tr>\n    <tr>\n      <th>140</th>\n      <td>Asia</td>\n      <td>Mongolia</td>\n      <td>Meat</td>\n      <td>Offline</td>\n      <td>M</td>\n      <td>1/3/2015</td>\n      <td>573378455</td>\n      <td>1/17/2015</td>\n      <td>4281</td>\n      <td>421.89</td>\n      <td>364.69</td>\n      <td>1806111.09</td>\n      <td>1561237.89</td>\n      <td>244873.20</td>\n    </tr>\n    <tr>\n      <th>146</th>\n      <td>Asia</td>\n      <td>Brunei</td>\n      <td>Baby Food</td>\n      <td>Online</td>\n      <td>H</td>\n      <td>8/12/2015</td>\n      <td>510978686</td>\n      <td>9/30/2015</td>\n      <td>8803</td>\n      <td>255.28</td>\n      <td>159.42</td>\n      <td>2247229.84</td>\n      <td>1403374.26</td>\n      <td>843855.58</td>\n    </tr>\n    <tr>\n      <th>159</th>\n      <td>Asia</td>\n      <td>Vietnam</td>\n      <td>Office Supplies</td>\n      <td>Online</td>\n      <td>H</td>\n      <td>8/16/2016</td>\n      <td>606970441</td>\n      <td>9/16/2016</td>\n      <td>4897</td>\n      <td>651.21</td>\n      <td>524.96</td>\n      <td>3188975.37</td>\n      <td>2570729.12</td>\n      <td>618246.25</td>\n    </tr>\n    <tr>\n      <th>169</th>\n      <td>Asia</td>\n      <td>Japan</td>\n      <td>Beverages</td>\n      <td>Online</td>\n      <td>H</td>\n      <td>10/18/2012</td>\n      <td>981086671</td>\n      <td>11/21/2012</td>\n      <td>4203</td>\n      <td>47.45</td>\n      <td>31.79</td>\n      <td>199432.35</td>\n      <td>133613.37</td>\n      <td>65818.98</td>\n    </tr>\n    <tr>\n      <th>183</th>\n      <td>Asia</td>\n      <td>India</td>\n      <td>Personal Care</td>\n      <td>Online</td>\n      <td>L</td>\n      <td>12/24/2015</td>\n      <td>102928006</td>\n      <td>1/31/2016</td>\n      <td>7539</td>\n      <td>81.73</td>\n      <td>56.67</td>\n      <td>616162.47</td>\n      <td>427235.13</td>\n      <td>188927.34</td>\n    </tr>\n    <tr>\n      <th>189</th>\n      <td>Asia</td>\n      <td>Vietnam</td>\n      <td>Cosmetics</td>\n      <td>Offline</td>\n      <td>L</td>\n      <td>12/24/2016</td>\n      <td>827506387</td>\n      <td>1/30/2017</td>\n      <td>6384</td>\n      <td>437.20</td>\n      <td>263.33</td>\n      <td>2791084.80</td>\n      <td>1681098.72</td>\n      <td>1109986.08</td>\n    </tr>\n    <tr>\n      <th>201</th>\n      <td>Asia</td>\n      <td>China</td>\n      <td>Personal Care</td>\n      <td>Online</td>\n      <td>L</td>\n      <td>9/11/2012</td>\n      <td>637448060</td>\n      <td>9/15/2012</td>\n      <td>3901</td>\n      <td>81.73</td>\n      <td>56.67</td>\n      <td>318828.73</td>\n      <td>221069.67</td>\n      <td>97759.06</td>\n    </tr>\n    <tr>\n      <th>204</th>\n      <td>Asia</td>\n      <td>Bangladesh</td>\n      <td>Personal Care</td>\n      <td>Offline</td>\n      <td>M</td>\n      <td>7/26/2010</td>\n      <td>496941077</td>\n      <td>7/29/2010</td>\n      <td>4763</td>\n      <td>81.73</td>\n      <td>56.67</td>\n      <td>389279.99</td>\n      <td>269919.21</td>\n      <td>119360.78</td>\n    </tr>\n    <tr>\n      <th>205</th>\n      <td>Asia</td>\n      <td>Myanmar</td>\n      <td>Snacks</td>\n      <td>Online</td>\n      <td>L</td>\n      <td>6/24/2016</td>\n      <td>366526925</td>\n      <td>7/14/2016</td>\n      <td>2317</td>\n      <td>152.58</td>\n      <td>97.44</td>\n      <td>353527.86</td>\n      <td>225768.48</td>\n      <td>127759.38</td>\n    </tr>\n    <tr>\n      <th>229</th>\n      <td>Asia</td>\n      <td>South Korea</td>\n      <td>Baby Food</td>\n      <td>Online</td>\n      <td>L</td>\n      <td>11/21/2013</td>\n      <td>780282342</td>\n      <td>12/27/2013</td>\n      <td>1739</td>\n      <td>255.28</td>\n      <td>159.42</td>\n      <td>443931.92</td>\n      <td>277231.38</td>\n      <td>166700.54</td>\n    </tr>\n    <tr>\n      <th>232</th>\n      <td>Asia</td>\n      <td>Bangladesh</td>\n      <td>Personal Care</td>\n      <td>Online</td>\n      <td>L</td>\n      <td>10/15/2016</td>\n      <td>927232635</td>\n      <td>11/24/2016</td>\n      <td>7597</td>\n      <td>81.73</td>\n      <td>56.67</td>\n      <td>620902.81</td>\n      <td>430521.99</td>\n      <td>190380.82</td>\n    </tr>\n    <tr>\n      <th>...</th>\n      <td>...</td>\n      <td>...</td>\n      <td>...</td>\n      <td>...</td>\n      <td>...</td>\n      <td>...</td>\n      <td>...</td>\n      <td>...</td>\n      <td>...</td>\n      <td>...</td>\n      <td>...</td>\n      <td>...</td>\n      <td>...</td>\n      <td>...</td>\n    </tr>\n    <tr>\n      <th>822</th>\n      <td>Asia</td>\n      <td>Kyrgyzstan</td>\n      <td>Vegetables</td>\n      <td>Offline</td>\n      <td>H</td>\n      <td>1/29/2017</td>\n      <td>348286616</td>\n      <td>2/13/2017</td>\n      <td>4604</td>\n      <td>154.06</td>\n      <td>90.93</td>\n      <td>709292.24</td>\n      <td>418641.72</td>\n      <td>290650.52</td>\n    </tr>\n    <tr>\n      <th>828</th>\n      <td>Asia</td>\n      <td>Thailand</td>\n      <td>Vegetables</td>\n      <td>Online</td>\n      <td>L</td>\n      <td>7/17/2010</td>\n      <td>976871955</td>\n      <td>8/31/2010</td>\n      <td>6975</td>\n      <td>154.06</td>\n      <td>90.93</td>\n      <td>1074568.50</td>\n      <td>634236.75</td>\n      <td>440331.75</td>\n    </tr>\n    <tr>\n      <th>831</th>\n      <td>Asia</td>\n      <td>China</td>\n      <td>Cosmetics</td>\n      <td>Offline</td>\n      <td>M</td>\n      <td>1/14/2017</td>\n      <td>586165082</td>\n      <td>1/27/2017</td>\n      <td>8128</td>\n      <td>437.20</td>\n      <td>263.33</td>\n      <td>3553561.60</td>\n      <td>2140346.24</td>\n      <td>1413215.36</td>\n    </tr>\n    <tr>\n      <th>833</th>\n      <td>Asia</td>\n      <td>Cambodia</td>\n      <td>Cereal</td>\n      <td>Online</td>\n      <td>L</td>\n      <td>10/3/2011</td>\n      <td>899853074</td>\n      <td>10/26/2011</td>\n      <td>5376</td>\n      <td>205.70</td>\n      <td>117.11</td>\n      <td>1105843.20</td>\n      <td>629583.36</td>\n      <td>476259.84</td>\n    </tr>\n    <tr>\n      <th>846</th>\n      <td>Asia</td>\n      <td>North Korea</td>\n      <td>Cosmetics</td>\n      <td>Offline</td>\n      <td>C</td>\n      <td>2/17/2017</td>\n      <td>157244670</td>\n      <td>3/15/2017</td>\n      <td>1047</td>\n      <td>437.20</td>\n      <td>263.33</td>\n      <td>457748.40</td>\n      <td>275706.51</td>\n      <td>182041.89</td>\n    </tr>\n    <tr>\n      <th>849</th>\n      <td>Asia</td>\n      <td>Singapore</td>\n      <td>Cosmetics</td>\n      <td>Offline</td>\n      <td>L</td>\n      <td>10/23/2014</td>\n      <td>970611894</td>\n      <td>11/10/2014</td>\n      <td>4483</td>\n      <td>437.20</td>\n      <td>263.33</td>\n      <td>1959967.60</td>\n      <td>1180508.39</td>\n      <td>779459.21</td>\n    </tr>\n    <tr>\n      <th>850</th>\n      <td>Asia</td>\n      <td>Malaysia</td>\n      <td>Baby Food</td>\n      <td>Offline</td>\n      <td>M</td>\n      <td>12/16/2016</td>\n      <td>677394092</td>\n      <td>12/29/2016</td>\n      <td>4820</td>\n      <td>255.28</td>\n      <td>159.42</td>\n      <td>1230449.60</td>\n      <td>768404.40</td>\n      <td>462045.20</td>\n    </tr>\n    <tr>\n      <th>856</th>\n      <td>Asia</td>\n      <td>Philippines</td>\n      <td>Fruits</td>\n      <td>Offline</td>\n      <td>L</td>\n      <td>5/4/2013</td>\n      <td>827964293</td>\n      <td>6/1/2013</td>\n      <td>1888</td>\n      <td>9.33</td>\n      <td>6.92</td>\n      <td>17615.04</td>\n      <td>13064.96</td>\n      <td>4550.08</td>\n    </tr>\n    <tr>\n      <th>868</th>\n      <td>Asia</td>\n      <td>Myanmar</td>\n      <td>Beverages</td>\n      <td>Online</td>\n      <td>H</td>\n      <td>9/20/2011</td>\n      <td>644772422</td>\n      <td>10/26/2011</td>\n      <td>1343</td>\n      <td>47.45</td>\n      <td>31.79</td>\n      <td>63725.35</td>\n      <td>42693.97</td>\n      <td>21031.38</td>\n    </tr>\n    <tr>\n      <th>871</th>\n      <td>Asia</td>\n      <td>Cambodia</td>\n      <td>Baby Food</td>\n      <td>Offline</td>\n      <td>C</td>\n      <td>1/2/2012</td>\n      <td>556738889</td>\n      <td>1/25/2012</td>\n      <td>264</td>\n      <td>255.28</td>\n      <td>159.42</td>\n      <td>67393.92</td>\n      <td>42086.88</td>\n      <td>25307.04</td>\n    </tr>\n    <tr>\n      <th>878</th>\n      <td>Asia</td>\n      <td>Vietnam</td>\n      <td>Personal Care</td>\n      <td>Offline</td>\n      <td>L</td>\n      <td>6/18/2017</td>\n      <td>109358012</td>\n      <td>7/10/2017</td>\n      <td>321</td>\n      <td>81.73</td>\n      <td>56.67</td>\n      <td>26235.33</td>\n      <td>18191.07</td>\n      <td>8044.26</td>\n    </tr>\n    <tr>\n      <th>890</th>\n      <td>Asia</td>\n      <td>North Korea</td>\n      <td>Beverages</td>\n      <td>Online</td>\n      <td>C</td>\n      <td>8/16/2013</td>\n      <td>829352176</td>\n      <td>8/26/2013</td>\n      <td>2594</td>\n      <td>47.45</td>\n      <td>31.79</td>\n      <td>123085.30</td>\n      <td>82463.26</td>\n      <td>40622.04</td>\n    </tr>\n    <tr>\n      <th>891</th>\n      <td>Asia</td>\n      <td>North Korea</td>\n      <td>Household</td>\n      <td>Online</td>\n      <td>M</td>\n      <td>7/14/2015</td>\n      <td>974337804</td>\n      <td>8/7/2015</td>\n      <td>7063</td>\n      <td>668.27</td>\n      <td>502.54</td>\n      <td>4719991.01</td>\n      <td>3549440.02</td>\n      <td>1170550.99</td>\n    </tr>\n    <tr>\n      <th>902</th>\n      <td>Asia</td>\n      <td>Japan</td>\n      <td>Cosmetics</td>\n      <td>Online</td>\n      <td>L</td>\n      <td>1/6/2016</td>\n      <td>453569972</td>\n      <td>2/19/2016</td>\n      <td>289</td>\n      <td>437.20</td>\n      <td>263.33</td>\n      <td>126350.80</td>\n      <td>76102.37</td>\n      <td>50248.43</td>\n    </tr>\n    <tr>\n      <th>914</th>\n      <td>Asia</td>\n      <td>Myanmar</td>\n      <td>Vegetables</td>\n      <td>Offline</td>\n      <td>L</td>\n      <td>1/14/2013</td>\n      <td>416386401</td>\n      <td>2/16/2013</td>\n      <td>6844</td>\n      <td>154.06</td>\n      <td>90.93</td>\n      <td>1054386.64</td>\n      <td>622324.92</td>\n      <td>432061.72</td>\n    </tr>\n    <tr>\n      <th>922</th>\n      <td>Asia</td>\n      <td>Bhutan</td>\n      <td>Beverages</td>\n      <td>Offline</td>\n      <td>M</td>\n      <td>8/5/2014</td>\n      <td>554707705</td>\n      <td>9/19/2014</td>\n      <td>9192</td>\n      <td>47.45</td>\n      <td>31.79</td>\n      <td>436160.40</td>\n      <td>292213.68</td>\n      <td>143946.72</td>\n    </tr>\n    <tr>\n      <th>924</th>\n      <td>Asia</td>\n      <td>Indonesia</td>\n      <td>Personal Care</td>\n      <td>Online</td>\n      <td>H</td>\n      <td>9/10/2011</td>\n      <td>777840888</td>\n      <td>10/23/2011</td>\n      <td>9259</td>\n      <td>81.73</td>\n      <td>56.67</td>\n      <td>756738.07</td>\n      <td>524707.53</td>\n      <td>232030.54</td>\n    </tr>\n    <tr>\n      <th>931</th>\n      <td>Asia</td>\n      <td>Nepal</td>\n      <td>Cereal</td>\n      <td>Offline</td>\n      <td>H</td>\n      <td>1/13/2015</td>\n      <td>677284657</td>\n      <td>1/15/2015</td>\n      <td>2436</td>\n      <td>205.70</td>\n      <td>117.11</td>\n      <td>501085.20</td>\n      <td>285279.96</td>\n      <td>215805.24</td>\n    </tr>\n    <tr>\n      <th>932</th>\n      <td>Asia</td>\n      <td>Nepal</td>\n      <td>Fruits</td>\n      <td>Online</td>\n      <td>C</td>\n      <td>7/22/2014</td>\n      <td>673803794</td>\n      <td>7/29/2014</td>\n      <td>2371</td>\n      <td>9.33</td>\n      <td>6.92</td>\n      <td>22121.43</td>\n      <td>16407.32</td>\n      <td>5714.11</td>\n    </tr>\n    <tr>\n      <th>936</th>\n      <td>Asia</td>\n      <td>Maldives</td>\n      <td>Personal Care</td>\n      <td>Online</td>\n      <td>M</td>\n      <td>10/9/2013</td>\n      <td>849312102</td>\n      <td>11/23/2013</td>\n      <td>9180</td>\n      <td>81.73</td>\n      <td>56.67</td>\n      <td>750281.40</td>\n      <td>520230.60</td>\n      <td>230050.80</td>\n    </tr>\n    <tr>\n      <th>939</th>\n      <td>Asia</td>\n      <td>Maldives</td>\n      <td>Clothes</td>\n      <td>Offline</td>\n      <td>M</td>\n      <td>12/11/2016</td>\n      <td>801213872</td>\n      <td>1/28/2017</td>\n      <td>5844</td>\n      <td>109.28</td>\n      <td>35.84</td>\n      <td>638632.32</td>\n      <td>209448.96</td>\n      <td>429183.36</td>\n    </tr>\n    <tr>\n      <th>941</th>\n      <td>Asia</td>\n      <td>India</td>\n      <td>Cereal</td>\n      <td>Online</td>\n      <td>C</td>\n      <td>3/27/2010</td>\n      <td>160299813</td>\n      <td>4/6/2010</td>\n      <td>5132</td>\n      <td>205.70</td>\n      <td>117.11</td>\n      <td>1055652.40</td>\n      <td>601008.52</td>\n      <td>454643.88</td>\n    </tr>\n    <tr>\n      <th>942</th>\n      <td>Asia</td>\n      <td>Tajikistan</td>\n      <td>Beverages</td>\n      <td>Offline</td>\n      <td>C</td>\n      <td>9/11/2014</td>\n      <td>337022197</td>\n      <td>9/22/2014</td>\n      <td>1212</td>\n      <td>47.45</td>\n      <td>31.79</td>\n      <td>57509.40</td>\n      <td>38529.48</td>\n      <td>18979.92</td>\n    </tr>\n    <tr>\n      <th>944</th>\n      <td>Asia</td>\n      <td>Bhutan</td>\n      <td>Office Supplies</td>\n      <td>Offline</td>\n      <td>M</td>\n      <td>10/19/2011</td>\n      <td>221007430</td>\n      <td>11/10/2011</td>\n      <td>9865</td>\n      <td>651.21</td>\n      <td>524.96</td>\n      <td>6424186.65</td>\n      <td>5178730.40</td>\n      <td>1245456.25</td>\n    </tr>\n    <tr>\n      <th>960</th>\n      <td>Asia</td>\n      <td>Indonesia</td>\n      <td>Personal Care</td>\n      <td>Offline</td>\n      <td>H</td>\n      <td>8/17/2016</td>\n      <td>334612929</td>\n      <td>10/3/2016</td>\n      <td>8256</td>\n      <td>81.73</td>\n      <td>56.67</td>\n      <td>674762.88</td>\n      <td>467867.52</td>\n      <td>206895.36</td>\n    </tr>\n    <tr>\n      <th>961</th>\n      <td>Asia</td>\n      <td>Mongolia</td>\n      <td>Beverages</td>\n      <td>Offline</td>\n      <td>M</td>\n      <td>4/23/2014</td>\n      <td>270611131</td>\n      <td>5/24/2014</td>\n      <td>8702</td>\n      <td>47.45</td>\n      <td>31.79</td>\n      <td>412909.90</td>\n      <td>276636.58</td>\n      <td>136273.32</td>\n    </tr>\n    <tr>\n      <th>970</th>\n      <td>Asia</td>\n      <td>Laos</td>\n      <td>Snacks</td>\n      <td>Offline</td>\n      <td>M</td>\n      <td>1/3/2012</td>\n      <td>232389438</td>\n      <td>1/8/2012</td>\n      <td>8054</td>\n      <td>152.58</td>\n      <td>97.44</td>\n      <td>1228879.32</td>\n      <td>784781.76</td>\n      <td>444097.56</td>\n    </tr>\n    <tr>\n      <th>974</th>\n      <td>Asia</td>\n      <td>Brunei</td>\n      <td>Clothes</td>\n      <td>Offline</td>\n      <td>H</td>\n      <td>8/6/2011</td>\n      <td>612573039</td>\n      <td>8/9/2011</td>\n      <td>2830</td>\n      <td>109.28</td>\n      <td>35.84</td>\n      <td>309262.40</td>\n      <td>101427.20</td>\n      <td>207835.20</td>\n    </tr>\n    <tr>\n      <th>987</th>\n      <td>Asia</td>\n      <td>Mongolia</td>\n      <td>Clothes</td>\n      <td>Offline</td>\n      <td>H</td>\n      <td>9/23/2016</td>\n      <td>308168065</td>\n      <td>10/18/2016</td>\n      <td>2633</td>\n      <td>109.28</td>\n      <td>35.84</td>\n      <td>287734.24</td>\n      <td>94366.72</td>\n      <td>193367.52</td>\n    </tr>\n    <tr>\n      <th>995</th>\n      <td>Asia</td>\n      <td>Nepal</td>\n      <td>Meat</td>\n      <td>Offline</td>\n      <td>C</td>\n      <td>4/9/2017</td>\n      <td>919890248</td>\n      <td>5/18/2017</td>\n      <td>4821</td>\n      <td>421.89</td>\n      <td>364.69</td>\n      <td>2033931.69</td>\n      <td>1758170.49</td>\n      <td>275761.20</td>\n    </tr>\n  </tbody>\n</table>\n<p>136 rows × 14 columns</p>\n</div>",
      "text/plain": [
       "    Region      Country        Item Type Sales Channel Order Priority  \\\n",
       "4     Asia        Japan           Cereal       Offline              C   \n",
       "15    Asia     Maldives           Fruits       Offline              L   \n",
       "24    Asia     Mongolia          Clothes        Online              L   \n",
       "42    Asia     Mongolia        Beverages        Online              M   \n",
       "46    Asia         Laos        Beverages        Online              M   \n",
       "50    Asia       Bhutan             Meat        Online              H   \n",
       "56    Asia     Malaysia           Snacks       Offline              M   \n",
       "57    Asia   Uzbekistan  Office Supplies       Offline              L   \n",
       "59    Asia        Nepal       Vegetables       Offline              C   \n",
       "71    Asia        India           Fruits        Online              H   \n",
       "83    Asia  South Korea           Fruits       Offline              L   \n",
       "91    Asia  Philippines        Baby Food        Online              L   \n",
       "108   Asia        China        Cosmetics       Offline              L   \n",
       "112   Asia   Bangladesh        Baby Food        Online              H   \n",
       "116   Asia      Vietnam        Baby Food        Online              C   \n",
       "118   Asia       Taiwan        Household        Online              C   \n",
       "126   Asia     Malaysia           Snacks       Offline              H   \n",
       "133   Asia        China        Beverages       Offline              C   \n",
       "138   Asia   Uzbekistan    Personal Care       Offline              H   \n",
       "140   Asia     Mongolia             Meat       Offline              M   \n",
       "146   Asia       Brunei        Baby Food        Online              H   \n",
       "159   Asia      Vietnam  Office Supplies        Online              H   \n",
       "169   Asia        Japan        Beverages        Online              H   \n",
       "183   Asia        India    Personal Care        Online              L   \n",
       "189   Asia      Vietnam        Cosmetics       Offline              L   \n",
       "201   Asia        China    Personal Care        Online              L   \n",
       "204   Asia   Bangladesh    Personal Care       Offline              M   \n",
       "205   Asia      Myanmar           Snacks        Online              L   \n",
       "229   Asia  South Korea        Baby Food        Online              L   \n",
       "232   Asia   Bangladesh    Personal Care        Online              L   \n",
       "..     ...          ...              ...           ...            ...   \n",
       "822   Asia   Kyrgyzstan       Vegetables       Offline              H   \n",
       "828   Asia     Thailand       Vegetables        Online              L   \n",
       "831   Asia        China        Cosmetics       Offline              M   \n",
       "833   Asia     Cambodia           Cereal        Online              L   \n",
       "846   Asia  North Korea        Cosmetics       Offline              C   \n",
       "849   Asia    Singapore        Cosmetics       Offline              L   \n",
       "850   Asia     Malaysia        Baby Food       Offline              M   \n",
       "856   Asia  Philippines           Fruits       Offline              L   \n",
       "868   Asia      Myanmar        Beverages        Online              H   \n",
       "871   Asia     Cambodia        Baby Food       Offline              C   \n",
       "878   Asia      Vietnam    Personal Care       Offline              L   \n",
       "890   Asia  North Korea        Beverages        Online              C   \n",
       "891   Asia  North Korea        Household        Online              M   \n",
       "902   Asia        Japan        Cosmetics        Online              L   \n",
       "914   Asia      Myanmar       Vegetables       Offline              L   \n",
       "922   Asia       Bhutan        Beverages       Offline              M   \n",
       "924   Asia    Indonesia    Personal Care        Online              H   \n",
       "931   Asia        Nepal           Cereal       Offline              H   \n",
       "932   Asia        Nepal           Fruits        Online              C   \n",
       "936   Asia     Maldives    Personal Care        Online              M   \n",
       "939   Asia     Maldives          Clothes       Offline              M   \n",
       "941   Asia        India           Cereal        Online              C   \n",
       "942   Asia   Tajikistan        Beverages       Offline              C   \n",
       "944   Asia       Bhutan  Office Supplies       Offline              M   \n",
       "960   Asia    Indonesia    Personal Care       Offline              H   \n",
       "961   Asia     Mongolia        Beverages       Offline              M   \n",
       "970   Asia         Laos           Snacks       Offline              M   \n",
       "974   Asia       Brunei          Clothes       Offline              H   \n",
       "987   Asia     Mongolia          Clothes       Offline              H   \n",
       "995   Asia        Nepal             Meat       Offline              C   \n",
       "\n",
       "     Order Date   Order ID   Ship Date  Units Sold  Unit Price  Unit Cost  \\\n",
       "4     4/10/2010  161442649   5/12/2010        3322      205.70     117.11   \n",
       "15     1/8/2011  714135205    2/6/2011        7332        9.33       6.92   \n",
       "24   12/12/2015  770478332   1/24/2016         515      109.28      35.84   \n",
       "42     8/3/2013  329110324    9/2/2013        9913       47.45      31.79   \n",
       "46    3/22/2013  693473613   4/21/2013        3107       47.45      31.79   \n",
       "50    12/9/2016  726708972   1/26/2017        8189      421.89     364.69   \n",
       "56    10/6/2012  175033080   11/5/2012        5033      152.58      97.44   \n",
       "57    3/10/2012  276595246   3/15/2012        9535      651.21     524.96   \n",
       "59     6/2/2014  443121373   6/19/2014        8316      154.06      90.93   \n",
       "71    7/29/2010  658348691   8/22/2010        8862        9.33       6.92   \n",
       "83     3/7/2010  769205892   3/17/2010        3972        9.33       6.92   \n",
       "91    2/23/2014  160127294   3/23/2014        4079      255.28     159.42   \n",
       "108   9/22/2011  773315894   11/4/2011         213      437.20     263.33   \n",
       "112   8/17/2011  254927718    9/7/2011        7632      255.28     159.42   \n",
       "116   6/20/2011  881974112   7/11/2011        4594      255.28     159.42   \n",
       "118   1/23/2017  607261836   2/22/2017        1127      668.27     502.54   \n",
       "126   3/11/2010  600124156   4/21/2010        8929      152.58      97.44   \n",
       "133   4/16/2013  332877862    5/7/2013        4811       47.45      31.79   \n",
       "138   2/12/2013  707520663   3/15/2013        9942       81.73      56.67   \n",
       "140    1/3/2015  573378455   1/17/2015        4281      421.89     364.69   \n",
       "146   8/12/2015  510978686   9/30/2015        8803      255.28     159.42   \n",
       "159   8/16/2016  606970441   9/16/2016        4897      651.21     524.96   \n",
       "169  10/18/2012  981086671  11/21/2012        4203       47.45      31.79   \n",
       "183  12/24/2015  102928006   1/31/2016        7539       81.73      56.67   \n",
       "189  12/24/2016  827506387   1/30/2017        6384      437.20     263.33   \n",
       "201   9/11/2012  637448060   9/15/2012        3901       81.73      56.67   \n",
       "204   7/26/2010  496941077   7/29/2010        4763       81.73      56.67   \n",
       "205   6/24/2016  366526925   7/14/2016        2317      152.58      97.44   \n",
       "229  11/21/2013  780282342  12/27/2013        1739      255.28     159.42   \n",
       "232  10/15/2016  927232635  11/24/2016        7597       81.73      56.67   \n",
       "..          ...        ...         ...         ...         ...        ...   \n",
       "822   1/29/2017  348286616   2/13/2017        4604      154.06      90.93   \n",
       "828   7/17/2010  976871955   8/31/2010        6975      154.06      90.93   \n",
       "831   1/14/2017  586165082   1/27/2017        8128      437.20     263.33   \n",
       "833   10/3/2011  899853074  10/26/2011        5376      205.70     117.11   \n",
       "846   2/17/2017  157244670   3/15/2017        1047      437.20     263.33   \n",
       "849  10/23/2014  970611894  11/10/2014        4483      437.20     263.33   \n",
       "850  12/16/2016  677394092  12/29/2016        4820      255.28     159.42   \n",
       "856    5/4/2013  827964293    6/1/2013        1888        9.33       6.92   \n",
       "868   9/20/2011  644772422  10/26/2011        1343       47.45      31.79   \n",
       "871    1/2/2012  556738889   1/25/2012         264      255.28     159.42   \n",
       "878   6/18/2017  109358012   7/10/2017         321       81.73      56.67   \n",
       "890   8/16/2013  829352176   8/26/2013        2594       47.45      31.79   \n",
       "891   7/14/2015  974337804    8/7/2015        7063      668.27     502.54   \n",
       "902    1/6/2016  453569972   2/19/2016         289      437.20     263.33   \n",
       "914   1/14/2013  416386401   2/16/2013        6844      154.06      90.93   \n",
       "922    8/5/2014  554707705   9/19/2014        9192       47.45      31.79   \n",
       "924   9/10/2011  777840888  10/23/2011        9259       81.73      56.67   \n",
       "931   1/13/2015  677284657   1/15/2015        2436      205.70     117.11   \n",
       "932   7/22/2014  673803794   7/29/2014        2371        9.33       6.92   \n",
       "936   10/9/2013  849312102  11/23/2013        9180       81.73      56.67   \n",
       "939  12/11/2016  801213872   1/28/2017        5844      109.28      35.84   \n",
       "941   3/27/2010  160299813    4/6/2010        5132      205.70     117.11   \n",
       "942   9/11/2014  337022197   9/22/2014        1212       47.45      31.79   \n",
       "944  10/19/2011  221007430  11/10/2011        9865      651.21     524.96   \n",
       "960   8/17/2016  334612929   10/3/2016        8256       81.73      56.67   \n",
       "961   4/23/2014  270611131   5/24/2014        8702       47.45      31.79   \n",
       "970    1/3/2012  232389438    1/8/2012        8054      152.58      97.44   \n",
       "974    8/6/2011  612573039    8/9/2011        2830      109.28      35.84   \n",
       "987   9/23/2016  308168065  10/18/2016        2633      109.28      35.84   \n",
       "995    4/9/2017  919890248   5/18/2017        4821      421.89     364.69   \n",
       "\n",
       "     Total Revenue  Total Cost  Total Profit  \n",
       "4        683335.40   389039.42     294295.98  \n",
       "15        68407.56    50737.44      17670.12  \n",
       "24        56279.20    18457.60      37821.60  \n",
       "42       470371.85   315134.27     155237.58  \n",
       "46       147427.15    98771.53      48655.62  \n",
       "50      3454857.21  2986446.41     468410.80  \n",
       "56       767935.14   490415.52     277519.62  \n",
       "57      6209287.35  5005493.60    1203793.75  \n",
       "59      1281162.96   756173.88     524989.08  \n",
       "71        82682.46    61325.04      21357.42  \n",
       "83        37058.76    27486.24       9572.52  \n",
       "91      1041287.12   650274.18     391012.94  \n",
       "108       93123.60    56089.29      37034.31  \n",
       "112     1948296.96  1216693.44     731603.52  \n",
       "116     1172756.32   732375.48     440380.84  \n",
       "118      753140.29   566362.58     186777.71  \n",
       "126     1362386.82   870041.76     492345.06  \n",
       "133      228281.95   152941.69      75340.26  \n",
       "138      812559.66   563413.14     249146.52  \n",
       "140     1806111.09  1561237.89     244873.20  \n",
       "146     2247229.84  1403374.26     843855.58  \n",
       "159     3188975.37  2570729.12     618246.25  \n",
       "169      199432.35   133613.37      65818.98  \n",
       "183      616162.47   427235.13     188927.34  \n",
       "189     2791084.80  1681098.72    1109986.08  \n",
       "201      318828.73   221069.67      97759.06  \n",
       "204      389279.99   269919.21     119360.78  \n",
       "205      353527.86   225768.48     127759.38  \n",
       "229      443931.92   277231.38     166700.54  \n",
       "232      620902.81   430521.99     190380.82  \n",
       "..             ...         ...           ...  \n",
       "822      709292.24   418641.72     290650.52  \n",
       "828     1074568.50   634236.75     440331.75  \n",
       "831     3553561.60  2140346.24    1413215.36  \n",
       "833     1105843.20   629583.36     476259.84  \n",
       "846      457748.40   275706.51     182041.89  \n",
       "849     1959967.60  1180508.39     779459.21  \n",
       "850     1230449.60   768404.40     462045.20  \n",
       "856       17615.04    13064.96       4550.08  \n",
       "868       63725.35    42693.97      21031.38  \n",
       "871       67393.92    42086.88      25307.04  \n",
       "878       26235.33    18191.07       8044.26  \n",
       "890      123085.30    82463.26      40622.04  \n",
       "891     4719991.01  3549440.02    1170550.99  \n",
       "902      126350.80    76102.37      50248.43  \n",
       "914     1054386.64   622324.92     432061.72  \n",
       "922      436160.40   292213.68     143946.72  \n",
       "924      756738.07   524707.53     232030.54  \n",
       "931      501085.20   285279.96     215805.24  \n",
       "932       22121.43    16407.32       5714.11  \n",
       "936      750281.40   520230.60     230050.80  \n",
       "939      638632.32   209448.96     429183.36  \n",
       "941     1055652.40   601008.52     454643.88  \n",
       "942       57509.40    38529.48      18979.92  \n",
       "944     6424186.65  5178730.40    1245456.25  \n",
       "960      674762.88   467867.52     206895.36  \n",
       "961      412909.90   276636.58     136273.32  \n",
       "970     1228879.32   784781.76     444097.56  \n",
       "974      309262.40   101427.20     207835.20  \n",
       "987      287734.24    94366.72     193367.52  \n",
       "995     2033931.69  1758170.49     275761.20  \n",
       "\n",
       "[136 rows x 14 columns]"
      ]
     },
     "metadata": {},
     "execution_count": 113
    }
   ],
   "source": [
    "# select only Asia Region\n",
    "productSalesReport.loc[productSalesReport.Region == 'Asia']"
   ]
  },
  {
   "cell_type": "code",
   "execution_count": 114,
   "metadata": {},
   "outputs": [
    {
     "output_type": "execute_result",
     "data": {
      "text/html": "<div>\n<style scoped>\n    .dataframe tbody tr th:only-of-type {\n        vertical-align: middle;\n    }\n\n    .dataframe tbody tr th {\n        vertical-align: top;\n    }\n\n    .dataframe thead th {\n        text-align: right;\n    }\n</style>\n<table border=\"1\" class=\"dataframe\">\n  <thead>\n    <tr style=\"text-align: right;\">\n      <th></th>\n      <th>Region</th>\n      <th>Country</th>\n      <th>Item Type</th>\n      <th>Sales Channel</th>\n      <th>Order Priority</th>\n      <th>Order Date</th>\n      <th>Order ID</th>\n      <th>Ship Date</th>\n      <th>Units Sold</th>\n      <th>Unit Price</th>\n      <th>Unit Cost</th>\n      <th>Total Revenue</th>\n      <th>Total Cost</th>\n      <th>Total Profit</th>\n    </tr>\n  </thead>\n  <tbody>\n    <tr>\n      <th>83</th>\n      <td>Asia</td>\n      <td>South Korea</td>\n      <td>Fruits</td>\n      <td>Offline</td>\n      <td>L</td>\n      <td>3/7/2010</td>\n      <td>769205892</td>\n      <td>3/17/2010</td>\n      <td>3972</td>\n      <td>9.33</td>\n      <td>6.92</td>\n      <td>37058.76</td>\n      <td>27486.24</td>\n      <td>9572.52</td>\n    </tr>\n    <tr>\n      <th>341</th>\n      <td>Asia</td>\n      <td>North Korea</td>\n      <td>Snacks</td>\n      <td>Online</td>\n      <td>C</td>\n      <td>3/13/2017</td>\n      <td>522371423</td>\n      <td>4/8/2017</td>\n      <td>167</td>\n      <td>152.58</td>\n      <td>97.44</td>\n      <td>25480.86</td>\n      <td>16272.48</td>\n      <td>9208.38</td>\n    </tr>\n    <tr>\n      <th>438</th>\n      <td>Asia</td>\n      <td>Kyrgyzstan</td>\n      <td>Fruits</td>\n      <td>Online</td>\n      <td>C</td>\n      <td>1/14/2012</td>\n      <td>402614009</td>\n      <td>3/2/2012</td>\n      <td>1287</td>\n      <td>9.33</td>\n      <td>6.92</td>\n      <td>12007.71</td>\n      <td>8906.04</td>\n      <td>3101.67</td>\n    </tr>\n    <tr>\n      <th>564</th>\n      <td>Asia</td>\n      <td>Mongolia</td>\n      <td>Fruits</td>\n      <td>Online</td>\n      <td>M</td>\n      <td>9/12/2013</td>\n      <td>171131217</td>\n      <td>10/8/2013</td>\n      <td>385</td>\n      <td>9.33</td>\n      <td>6.92</td>\n      <td>3592.05</td>\n      <td>2664.20</td>\n      <td>927.85</td>\n    </tr>\n    <tr>\n      <th>856</th>\n      <td>Asia</td>\n      <td>Philippines</td>\n      <td>Fruits</td>\n      <td>Offline</td>\n      <td>L</td>\n      <td>5/4/2013</td>\n      <td>827964293</td>\n      <td>6/1/2013</td>\n      <td>1888</td>\n      <td>9.33</td>\n      <td>6.92</td>\n      <td>17615.04</td>\n      <td>13064.96</td>\n      <td>4550.08</td>\n    </tr>\n    <tr>\n      <th>878</th>\n      <td>Asia</td>\n      <td>Vietnam</td>\n      <td>Personal Care</td>\n      <td>Offline</td>\n      <td>L</td>\n      <td>6/18/2017</td>\n      <td>109358012</td>\n      <td>7/10/2017</td>\n      <td>321</td>\n      <td>81.73</td>\n      <td>56.67</td>\n      <td>26235.33</td>\n      <td>18191.07</td>\n      <td>8044.26</td>\n    </tr>\n    <tr>\n      <th>932</th>\n      <td>Asia</td>\n      <td>Nepal</td>\n      <td>Fruits</td>\n      <td>Online</td>\n      <td>C</td>\n      <td>7/22/2014</td>\n      <td>673803794</td>\n      <td>7/29/2014</td>\n      <td>2371</td>\n      <td>9.33</td>\n      <td>6.92</td>\n      <td>22121.43</td>\n      <td>16407.32</td>\n      <td>5714.11</td>\n    </tr>\n  </tbody>\n</table>\n</div>",
      "text/plain": [
       "    Region      Country      Item Type Sales Channel Order Priority  \\\n",
       "83    Asia  South Korea         Fruits       Offline              L   \n",
       "341   Asia  North Korea         Snacks        Online              C   \n",
       "438   Asia   Kyrgyzstan         Fruits        Online              C   \n",
       "564   Asia     Mongolia         Fruits        Online              M   \n",
       "856   Asia  Philippines         Fruits       Offline              L   \n",
       "878   Asia      Vietnam  Personal Care       Offline              L   \n",
       "932   Asia        Nepal         Fruits        Online              C   \n",
       "\n",
       "    Order Date   Order ID  Ship Date  Units Sold  Unit Price  Unit Cost  \\\n",
       "83    3/7/2010  769205892  3/17/2010        3972        9.33       6.92   \n",
       "341  3/13/2017  522371423   4/8/2017         167      152.58      97.44   \n",
       "438  1/14/2012  402614009   3/2/2012        1287        9.33       6.92   \n",
       "564  9/12/2013  171131217  10/8/2013         385        9.33       6.92   \n",
       "856   5/4/2013  827964293   6/1/2013        1888        9.33       6.92   \n",
       "878  6/18/2017  109358012  7/10/2017         321       81.73      56.67   \n",
       "932  7/22/2014  673803794  7/29/2014        2371        9.33       6.92   \n",
       "\n",
       "     Total Revenue  Total Cost  Total Profit  \n",
       "83        37058.76    27486.24       9572.52  \n",
       "341       25480.86    16272.48       9208.38  \n",
       "438       12007.71     8906.04       3101.67  \n",
       "564        3592.05     2664.20        927.85  \n",
       "856       17615.04    13064.96       4550.08  \n",
       "878       26235.33    18191.07       8044.26  \n",
       "932       22121.43    16407.32       5714.11  "
      ]
     },
     "metadata": {},
     "execution_count": 114
    }
   ],
   "source": [
    "# get all the iteams which region is Asia and has lessthen 10K profit\n",
    "productSalesReport.loc[ (productSalesReport.Region == 'Asia') & (productSalesReport['Total Profit'] <= 10000)]"
   ]
  },
  {
   "cell_type": "code",
   "execution_count": 115,
   "metadata": {},
   "outputs": [
    {
     "output_type": "execute_result",
     "data": {
      "text/html": "<div>\n<style scoped>\n    .dataframe tbody tr th:only-of-type {\n        vertical-align: middle;\n    }\n\n    .dataframe tbody tr th {\n        vertical-align: top;\n    }\n\n    .dataframe thead th {\n        text-align: right;\n    }\n</style>\n<table border=\"1\" class=\"dataframe\">\n  <thead>\n    <tr style=\"text-align: right;\">\n      <th></th>\n      <th>Region</th>\n      <th>Country</th>\n      <th>Item Type</th>\n      <th>Sales Channel</th>\n      <th>Order Priority</th>\n      <th>Order Date</th>\n      <th>Order ID</th>\n      <th>Ship Date</th>\n      <th>Units Sold</th>\n      <th>Unit Price</th>\n      <th>Unit Cost</th>\n      <th>Total Revenue</th>\n      <th>Total Cost</th>\n      <th>Total Profit</th>\n    </tr>\n  </thead>\n  <tbody>\n    <tr>\n      <th>50</th>\n      <td>Asia</td>\n      <td>Bhutan</td>\n      <td>Meat</td>\n      <td>Online</td>\n      <td>H</td>\n      <td>12/9/2016</td>\n      <td>726708972</td>\n      <td>1/26/2017</td>\n      <td>8189</td>\n      <td>421.89</td>\n      <td>364.69</td>\n      <td>3454857.21</td>\n      <td>2986446.41</td>\n      <td>468410.80</td>\n    </tr>\n    <tr>\n      <th>59</th>\n      <td>Asia</td>\n      <td>Nepal</td>\n      <td>Vegetables</td>\n      <td>Offline</td>\n      <td>C</td>\n      <td>6/2/2014</td>\n      <td>443121373</td>\n      <td>6/19/2014</td>\n      <td>8316</td>\n      <td>154.06</td>\n      <td>90.93</td>\n      <td>1281162.96</td>\n      <td>756173.88</td>\n      <td>524989.08</td>\n    </tr>\n    <tr>\n      <th>437</th>\n      <td>Asia</td>\n      <td>Bhutan</td>\n      <td>Clothes</td>\n      <td>Online</td>\n      <td>M</td>\n      <td>7/12/2012</td>\n      <td>147119653</td>\n      <td>8/9/2012</td>\n      <td>4829</td>\n      <td>109.28</td>\n      <td>35.84</td>\n      <td>527713.12</td>\n      <td>173071.36</td>\n      <td>354641.76</td>\n    </tr>\n    <tr>\n      <th>648</th>\n      <td>Asia</td>\n      <td>Bhutan</td>\n      <td>Snacks</td>\n      <td>Online</td>\n      <td>H</td>\n      <td>6/27/2015</td>\n      <td>505975615</td>\n      <td>7/4/2015</td>\n      <td>8283</td>\n      <td>152.58</td>\n      <td>97.44</td>\n      <td>1263820.14</td>\n      <td>807095.52</td>\n      <td>456724.62</td>\n    </tr>\n    <tr>\n      <th>760</th>\n      <td>Asia</td>\n      <td>Bhutan</td>\n      <td>Meat</td>\n      <td>Online</td>\n      <td>C</td>\n      <td>5/13/2014</td>\n      <td>251800048</td>\n      <td>5/22/2014</td>\n      <td>2085</td>\n      <td>421.89</td>\n      <td>364.69</td>\n      <td>879640.65</td>\n      <td>760378.65</td>\n      <td>119262.00</td>\n    </tr>\n    <tr>\n      <th>922</th>\n      <td>Asia</td>\n      <td>Bhutan</td>\n      <td>Beverages</td>\n      <td>Offline</td>\n      <td>M</td>\n      <td>8/5/2014</td>\n      <td>554707705</td>\n      <td>9/19/2014</td>\n      <td>9192</td>\n      <td>47.45</td>\n      <td>31.79</td>\n      <td>436160.40</td>\n      <td>292213.68</td>\n      <td>143946.72</td>\n    </tr>\n    <tr>\n      <th>931</th>\n      <td>Asia</td>\n      <td>Nepal</td>\n      <td>Cereal</td>\n      <td>Offline</td>\n      <td>H</td>\n      <td>1/13/2015</td>\n      <td>677284657</td>\n      <td>1/15/2015</td>\n      <td>2436</td>\n      <td>205.70</td>\n      <td>117.11</td>\n      <td>501085.20</td>\n      <td>285279.96</td>\n      <td>215805.24</td>\n    </tr>\n    <tr>\n      <th>944</th>\n      <td>Asia</td>\n      <td>Bhutan</td>\n      <td>Office Supplies</td>\n      <td>Offline</td>\n      <td>M</td>\n      <td>10/19/2011</td>\n      <td>221007430</td>\n      <td>11/10/2011</td>\n      <td>9865</td>\n      <td>651.21</td>\n      <td>524.96</td>\n      <td>6424186.65</td>\n      <td>5178730.40</td>\n      <td>1245456.25</td>\n    </tr>\n    <tr>\n      <th>995</th>\n      <td>Asia</td>\n      <td>Nepal</td>\n      <td>Meat</td>\n      <td>Offline</td>\n      <td>C</td>\n      <td>4/9/2017</td>\n      <td>919890248</td>\n      <td>5/18/2017</td>\n      <td>4821</td>\n      <td>421.89</td>\n      <td>364.69</td>\n      <td>2033931.69</td>\n      <td>1758170.49</td>\n      <td>275761.20</td>\n    </tr>\n  </tbody>\n</table>\n</div>",
      "text/plain": [
       "    Region Country        Item Type Sales Channel Order Priority  Order Date  \\\n",
       "50    Asia  Bhutan             Meat        Online              H   12/9/2016   \n",
       "59    Asia   Nepal       Vegetables       Offline              C    6/2/2014   \n",
       "437   Asia  Bhutan          Clothes        Online              M   7/12/2012   \n",
       "648   Asia  Bhutan           Snacks        Online              H   6/27/2015   \n",
       "760   Asia  Bhutan             Meat        Online              C   5/13/2014   \n",
       "922   Asia  Bhutan        Beverages       Offline              M    8/5/2014   \n",
       "931   Asia   Nepal           Cereal       Offline              H   1/13/2015   \n",
       "944   Asia  Bhutan  Office Supplies       Offline              M  10/19/2011   \n",
       "995   Asia   Nepal             Meat       Offline              C    4/9/2017   \n",
       "\n",
       "      Order ID   Ship Date  Units Sold  Unit Price  Unit Cost  Total Revenue  \\\n",
       "50   726708972   1/26/2017        8189      421.89     364.69     3454857.21   \n",
       "59   443121373   6/19/2014        8316      154.06      90.93     1281162.96   \n",
       "437  147119653    8/9/2012        4829      109.28      35.84      527713.12   \n",
       "648  505975615    7/4/2015        8283      152.58      97.44     1263820.14   \n",
       "760  251800048   5/22/2014        2085      421.89     364.69      879640.65   \n",
       "922  554707705   9/19/2014        9192       47.45      31.79      436160.40   \n",
       "931  677284657   1/15/2015        2436      205.70     117.11      501085.20   \n",
       "944  221007430  11/10/2011        9865      651.21     524.96     6424186.65   \n",
       "995  919890248   5/18/2017        4821      421.89     364.69     2033931.69   \n",
       "\n",
       "     Total Cost  Total Profit  \n",
       "50   2986446.41     468410.80  \n",
       "59    756173.88     524989.08  \n",
       "437   173071.36     354641.76  \n",
       "648   807095.52     456724.62  \n",
       "760   760378.65     119262.00  \n",
       "922   292213.68     143946.72  \n",
       "931   285279.96     215805.24  \n",
       "944  5178730.40    1245456.25  \n",
       "995  1758170.49     275761.20  "
      ]
     },
     "metadata": {},
     "execution_count": 115
    }
   ],
   "source": [
    "# get all the iteams which Country is Nepal or Bhutan and has greater then 50K profit\n",
    "productSalesReport.loc[(productSalesReport.Country.isin(['Nepal', 'Bhutan'])) & (productSalesReport['Total Profit'] >= 50000)]\n",
    "\n",
    "# above query can be solved othjer way as well \n",
    "# productSalesReport.loc[( (productSalesReport.Country == 'Nepal') | (productSalesReport.Country == 'Bhutan')) & (productSalesReport['Total Profit'] >= 50000)]"
   ]
  },
  {
   "cell_type": "code",
   "execution_count": 116,
   "metadata": {},
   "outputs": [
    {
     "output_type": "execute_result",
     "data": {
      "text/html": "<div>\n<style scoped>\n    .dataframe tbody tr th:only-of-type {\n        vertical-align: middle;\n    }\n\n    .dataframe tbody tr th {\n        vertical-align: top;\n    }\n\n    .dataframe thead th {\n        text-align: right;\n    }\n</style>\n<table border=\"1\" class=\"dataframe\">\n  <thead>\n    <tr style=\"text-align: right;\">\n      <th></th>\n      <th>Region</th>\n      <th>Country</th>\n      <th>Item Type</th>\n      <th>Sales Channel</th>\n      <th>Order Priority</th>\n      <th>Order Date</th>\n      <th>Order ID</th>\n      <th>Ship Date</th>\n      <th>Units Sold</th>\n      <th>Unit Price</th>\n      <th>Unit Cost</th>\n      <th>Total Revenue</th>\n      <th>Total Cost</th>\n      <th>Total Profit</th>\n    </tr>\n  </thead>\n  <tbody>\n    <tr>\n      <th>25</th>\n      <td>Central America and the Caribbean</td>\n      <td>Grenada</td>\n      <td>Cereal</td>\n      <td>Online</td>\n      <td>H</td>\n      <td>10/28/2012</td>\n      <td>430390107</td>\n      <td>11/13/2012</td>\n      <td>852</td>\n      <td>205.7</td>\n      <td>117.11</td>\n      <td>175256.4</td>\n      <td>99777.72</td>\n      <td>NaN</td>\n    </tr>\n  </tbody>\n</table>\n</div>",
      "text/plain": [
       "                               Region  Country Item Type Sales Channel  \\\n",
       "25  Central America and the Caribbean  Grenada    Cereal        Online   \n",
       "\n",
       "   Order Priority  Order Date   Order ID   Ship Date  Units Sold  Unit Price  \\\n",
       "25              H  10/28/2012  430390107  11/13/2012         852       205.7   \n",
       "\n",
       "    Unit Cost  Total Revenue  Total Cost  Total Profit  \n",
       "25     117.11       175256.4    99777.72           NaN  "
      ]
     },
     "metadata": {},
     "execution_count": 116
    }
   ],
   "source": [
    "# get all record which total profit is null\n",
    "productSalesReport.loc[productSalesReport['Total Profit'].isnull()]"
   ]
  }
 ]
}